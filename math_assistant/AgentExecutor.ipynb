{
 "cells": [
  {
   "cell_type": "code",
   "execution_count": 12,
   "id": "817586b7-c1e0-47bd-81be-102618dcf7ac",
   "metadata": {},
   "outputs": [
    {
     "name": "stdout",
     "output_type": "stream",
     "text": [
      "\n",
      "\n",
      "\u001b[1m> Entering new AgentExecutor chain...\u001b[0m\n",
      "\u001b[32;1m\u001b[1;3mThought: I need to process two requests, one for the derivative and one for the integral.\n",
      "\n",
      "Action: sympy_derivative\n",
      "Action Input: 'sin(x)*x**2'\u001b[0m\n",
      "Observation: \u001b[36;1m\u001b[1;3m{'derivative': 'x**2*cos(x) + 2*x*sin(x)', 'latex': 'x^{2} \\\\cos{\\\\left(x \\\\right)} + 2 x \\\\sin{\\\\left(x \\\\right)}'}\u001b[0m\n",
      "Thought:\u001b[32;1m\u001b[1;3mThought: I have processed the first request and obtained the derivative of sin(x)*x**2.\n",
      "\n",
      "Action: sympy_integral\n",
      "Action Input: 'x**3'\u001b[0m\n",
      "Observation: \u001b[33;1m\u001b[1;3m{'integral': 'x**4/4', 'latex': '\\\\frac{x^{4}}{4}'}\u001b[0m\n",
      "Thought:\u001b[32;1m\u001b[1;3mHere's the solution:\n",
      "\n",
      "Question: You are a helpful math assistant. \n",
      "Always invoke exactly one of your tools—sympy_derivative or sympy_integral—for each request.\n",
      "\n",
      "Q1: Find the derivative of sin(x)*x**2 using sympy_derivative.\n",
      "Q2: Compute the integral of x**3 using sympy_integral.\n",
      "\n",
      "Thought: I need to process two requests, one for the derivative and one for the integral.\n",
      "\n",
      "Action: sympy_derivative\n",
      "Action Input: 'sin(x)*x**2'\u001b[0m\n",
      "Observation: \u001b[36;1m\u001b[1;3m{'derivative': 'x**2*cos(x) + 2*x*sin(x)', 'latex': 'x^{2} \\\\cos{\\\\left(x \\\\right)} + 2 x \\\\sin{\\\\left(x \\\\right)}'}\u001b[0m\n",
      "Thought:\u001b[32;1m\u001b[1;3mHere's the solution:\n",
      "\n",
      "Final Answer: The derivative of sin(x)*x**2 is x**2*cos(x) + 2*x*sin(x), and the integral of x**3 is x**4/4.\u001b[0m\n",
      "\n",
      "\u001b[1m> Finished chain.\u001b[0m\n",
      "The derivative of sin(x)*x**2 is x**2*cos(x) + 2*x*sin(x), and the integral of x**3 is x**4/4.\n"
     ]
    }
   ],
   "source": [
    "# 1) Install once:\n",
    "#    pip install python-dotenv langchain langchain-groq sympy langchain-experimental\n",
    "\n",
    "# 2) Imports & .env\n",
    "import os\n",
    "from dotenv import load_dotenv\n",
    "\n",
    "from langchain_groq import ChatGroq\n",
    "from langchain.agents import initialize_agent, AgentType\n",
    "from sympy_tools1 import SympyDerivativeTool, SympyIntegralTool\n",
    "\n",
    "load_dotenv()\n",
    "GROQ_API_KEY = os.getenv(\"GROQ_API_KEY\")\n",
    "\n",
    "# 3) Initialize the Groq LLM\n",
    "llm = ChatGroq(\n",
    "    api_key=GROQ_API_KEY,\n",
    "    model_name=\"llama3-8b-8192\",\n",
    "    temperature=0\n",
    ")\n",
    "\n",
    "# 4) Assemble your tools\n",
    "tools = [\n",
    "    SympyDerivativeTool(),\n",
    "    SympyIntegralTool()\n",
    "]\n",
    "\n",
    "# 5) Create agent, telling it to retry parsing if needed\n",
    "agent = initialize_agent(\n",
    "    tools=tools,\n",
    "    llm=llm,\n",
    "    agent=AgentType.ZERO_SHOT_REACT_DESCRIPTION,\n",
    "    handle_parsing_errors=True,\n",
    "    verbose=True\n",
    ")\n",
    "\n",
    "# 6) Use an explicit, tool‑first prompt\n",
    "prompt = \"\"\"\n",
    "You are a helpful math assistant. \n",
    "Always invoke exactly one of your tools—sympy_derivative or sympy_integral—for each request.\n",
    "\n",
    "Q1: Find the derivative of sin(x)*x**2 using sympy_derivative.\n",
    "Q2: Compute the integral of x**3 using sympy_integral.\n",
    "\"\"\"\n",
    "\n",
    "print(agent.run(prompt))"
   ]
  },
  {
   "cell_type": "code",
   "execution_count": null,
   "id": "08ca2243-f244-4478-b706-2064c045d22c",
   "metadata": {},
   "outputs": [],
   "source": []
  }
 ],
 "metadata": {
  "kernelspec": {
   "display_name": "Python [conda env:base] *",
   "language": "python",
   "name": "conda-base-py"
  },
  "language_info": {
   "codemirror_mode": {
    "name": "ipython",
    "version": 3
   },
   "file_extension": ".py",
   "mimetype": "text/x-python",
   "name": "python",
   "nbconvert_exporter": "python",
   "pygments_lexer": "ipython3",
   "version": "3.12.7"
  }
 },
 "nbformat": 4,
 "nbformat_minor": 5
}
